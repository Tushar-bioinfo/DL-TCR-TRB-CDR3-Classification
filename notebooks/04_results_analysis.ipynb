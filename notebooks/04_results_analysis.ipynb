{
 "cells": [
  {
   "cell_type": "markdown",
   "metadata": {},
   "source": [
    "### Imports "
   ]
  },
  {
   "cell_type": "code",
   "execution_count": 1,
   "metadata": {},
   "outputs": [],
   "source": [
    "import json\n",
    "import numpy as np\n",
    "import torch\n",
    "import torch.nn as nn\n",
    "from torch.utils.data import DataLoader\n",
    "import matplotlib.pyplot as plt\n",
    "import seaborn as sns\n",
    "from sklearn.metrics import classification_report, confusion_matrix, roc_curve, roc_auc_score\n",
    "from pathlib import Path"
   ]
  },
  {
   "cell_type": "markdown",
   "metadata": {},
   "source": [
    "### Constants"
   ]
  },
  {
   "cell_type": "code",
   "execution_count": 2,
   "metadata": {},
   "outputs": [],
   "source": [
    "basedir = Path(\"/Users/tusharsingh/Work/Project/DL-cdr3-tumor\")\n",
    "jsonl_file = basedir /\"processed\"/ \"cdr3_tumor_normal.jsonl\"\n",
    "model_path = basedir / \"mean_pool_best_model.pt\"\n",
    "plot_dir = basedir / \"plots\"\n",
    "\n",
    "BATCH_SIZE = 22\n",
    "EMBEDDING_DIM = 32\n",
    "VOCAB_SIZE = 22  # 20 AAs + PAD + UNK"
   ]
  },
  {
   "cell_type": "markdown",
   "metadata": {},
   "source": [
    "### Load Data"
   ]
  },
  {
   "cell_type": "code",
   "execution_count": 3,
   "metadata": {},
   "outputs": [],
   "source": [
    "class PatientCDR3Dataset(torch.utils.data.Dataset):\n",
    "    def __init__(self, jsonl_file):\n",
    "        with open(jsonl_file) as f:\n",
    "            self.data = [json.loads(line) for line in f]\n",
    "\n",
    "    def __len__(self):\n",
    "        return len(self.data)\n",
    "\n",
    "    def __getitem__(self, idx):\n",
    "        patient = self.data[idx]\n",
    "        x = torch.tensor(patient['cdr3s'], dtype=torch.long)\n",
    "        y = 1 if patient['label'] == 'tumor' else 0\n",
    "        return x, torch.tensor(y, dtype=torch.float)"
   ]
  },
  {
   "cell_type": "markdown",
   "metadata": {},
   "source": [
    "### Model"
   ]
  },
  {
   "cell_type": "code",
   "execution_count": 4,
   "metadata": {},
   "outputs": [],
   "source": [
    "class MeanPoolModel(nn.Module):\n",
    "    def __init__(self, vocab_size, embedding_dim):\n",
    "        super().__init__()\n",
    "        self.embedding = nn.Embedding(vocab_size, embedding_dim, padding_idx=0)\n",
    "        self.fc = nn.Linear(embedding_dim, 1)\n",
    "        self.sigmoid = nn.Sigmoid()\n",
    "\n",
    "    def forward(self, x):\n",
    "        emb = self.embedding(x)                    # [B, CDR3, LEN, D]\n",
    "        pooled = emb.mean(dim=1).mean(dim=1)       # mean over CDR3s then over LEN\n",
    "        return self.sigmoid(self.fc(pooled)).squeeze()"
   ]
  },
  {
   "cell_type": "markdown",
   "metadata": {},
   "source": [
    "### Evaluation"
   ]
  },
  {
   "cell_type": "code",
   "execution_count": 5,
   "metadata": {},
   "outputs": [],
   "source": [
    "def evaluate_predictions(model, loader):\n",
    "    model.eval()\n",
    "    y_true, y_probs = [], []\n",
    "    with torch.no_grad():\n",
    "        for x, y in loader:\n",
    "            output = model(x)\n",
    "            y_true.extend(y.numpy())\n",
    "            y_probs.extend(output.numpy())\n",
    "    y_pred = [1 if p > 0.5 else 0 for p in y_probs]\n",
    "    return np.array(y_true), np.array(y_pred), np.array(y_probs)"
   ]
  },
  {
   "cell_type": "markdown",
   "metadata": {},
   "source": [
    "### Plots"
   ]
  },
  {
   "cell_type": "code",
   "execution_count": 6,
   "metadata": {},
   "outputs": [],
   "source": [
    "def plot_confusion_matrix(y_true, y_pred, path):\n",
    "    cm = confusion_matrix(y_true, y_pred)\n",
    "    plt.figure(figsize=(6,5))\n",
    "    sns.heatmap(cm, annot=True, fmt='d', cmap='Blues',\n",
    "                xticklabels=[\"Normal\", \"Tumor\"],\n",
    "                yticklabels=[\"Normal\", \"Tumor\"])\n",
    "    plt.xlabel(\"Predicted\")\n",
    "    plt.ylabel(\"True\")\n",
    "    plt.title(\"Confusion Matrix\")\n",
    "    plt.tight_layout()\n",
    "    plt.savefig(path)\n",
    "    plt.close()\n",
    "\n",
    "def plot_roc_curve(y_true, y_probs, path):\n",
    "    fpr, tpr, _ = roc_curve(y_true, y_probs)\n",
    "    auc = roc_auc_score(y_true, y_probs)\n",
    "    plt.figure(figsize=(6,5))\n",
    "    plt.plot(fpr, tpr, label=f\"AUC = {auc:.2f}\")\n",
    "    plt.plot([0,1], [0,1], '--', color='gray')\n",
    "    plt.xlabel(\"False Positive Rate\")\n",
    "    plt.ylabel(\"True Positive Rate\")\n",
    "    plt.title(\"ROC Curve\")\n",
    "    plt.legend()\n",
    "    plt.tight_layout()\n",
    "    plt.savefig(path)\n",
    "    plt.close()"
   ]
  },
  {
   "cell_type": "markdown",
   "metadata": {},
   "source": [
    "### Run"
   ]
  },
  {
   "cell_type": "code",
   "execution_count": 7,
   "metadata": {},
   "outputs": [
    {
     "name": "stdout",
     "output_type": "stream",
     "text": [
      "Classification Report:\n",
      "\n",
      "              precision    recall  f1-score   support\n",
      "\n",
      "      Normal       0.61      0.41      0.49       266\n",
      "       Tumor       0.56      0.74      0.64       266\n",
      "\n",
      "    accuracy                           0.58       532\n",
      "   macro avg       0.58      0.58      0.56       532\n",
      "weighted avg       0.58      0.58      0.56       532\n",
      "\n"
     ]
    },
    {
     "name": "stderr",
     "output_type": "stream",
     "text": [
      "/var/folders/lx/5td2g65s51s2qn_zywp584340000gn/T/ipykernel_20654/2740918667.py:6: FutureWarning: You are using `torch.load` with `weights_only=False` (the current default value), which uses the default pickle module implicitly. It is possible to construct malicious pickle data which will execute arbitrary code during unpickling (See https://github.com/pytorch/pytorch/blob/main/SECURITY.md#untrusted-models for more details). In a future release, the default value for `weights_only` will be flipped to `True`. This limits the functions that could be executed during unpickling. Arbitrary objects will no longer be allowed to be loaded via this mode unless they are explicitly allowlisted by the user via `torch.serialization.add_safe_globals`. We recommend you start setting `weights_only=True` for any use case where you don't have full control of the loaded file. Please open an issue on GitHub for any issues related to this experimental feature.\n",
      "  model.load_state_dict(torch.load(model_path))\n"
     ]
    }
   ],
   "source": [
    "if __name__ == \"__main__\":\n",
    "    dataset = PatientCDR3Dataset(jsonl_file)\n",
    "    loader = DataLoader(dataset, batch_size=BATCH_SIZE)\n",
    "\n",
    "    model = MeanPoolModel(VOCAB_SIZE, EMBEDDING_DIM)\n",
    "    model.load_state_dict(torch.load(model_path))\n",
    "    model.eval()\n",
    "\n",
    "    y_true, y_pred, y_probs = evaluate_predictions(model, loader)\n",
    "\n",
    "    plot_confusion_matrix(y_true, y_pred, plot_dir / \"confusion_matrix.png\")\n",
    "    plot_roc_curve(y_true, y_probs, plot_dir / \"roc_curve.png\")\n",
    "\n",
    "    print(\"Classification Report:\\n\")\n",
    "    print(classification_report(y_true, y_pred, target_names=[\"Normal\", \"Tumor\"]))"
   ]
  }
 ],
 "metadata": {
  "kernelspec": {
   "display_name": "ML_practice",
   "language": "python",
   "name": "python3"
  },
  "language_info": {
   "codemirror_mode": {
    "name": "ipython",
    "version": 3
   },
   "file_extension": ".py",
   "mimetype": "text/x-python",
   "name": "python",
   "nbconvert_exporter": "python",
   "pygments_lexer": "ipython3",
   "version": "3.11.11"
  }
 },
 "nbformat": 4,
 "nbformat_minor": 2
}
